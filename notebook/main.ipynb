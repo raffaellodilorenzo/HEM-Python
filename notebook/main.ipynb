{
  "nbformat": 4,
  "nbformat_minor": 0,
  "metadata": {
    "colab": {
      "name": "python_progetto_finale.ipynb",
      "provenance": [],
      "authorship_tag": "ABX9TyMevCFiQlVThBYTlWMXWZKm",
      "include_colab_link": true
    },
    "kernelspec": {
      "name": "python3",
      "display_name": "Python 3"
    },
    "language_info": {
      "name": "python"
    }
  },
  "cells": [
    {
      "cell_type": "markdown",
      "metadata": {
        "id": "view-in-github",
        "colab_type": "text"
      },
      "source": [
        "<a href=\"https://colab.research.google.com/github/ProfAI/programmazione-con-python/blob/main/Progetto%20Finale%20-%20Software%20di%20Gestione%20Magazzino/python_progetto_finale.ipynb\" target=\"_parent\"><img src=\"https://colab.research.google.com/assets/colab-badge.svg\" alt=\"Open In Colab\"/></a>"
      ]
    },
    {
      "cell_type": "markdown",
      "metadata": {
        "id": "7V9jvjHENf6S"
      },
      "source": [
        "# Software di un negozio di prodotti vegani\n",
        "Questo progetto consiste nel realizzare un software per la gestione di un negozio di prodotti vegani.\n",
        "Il software deve avere le seguenti funzionalità:\n",
        "- Registrare nuovi prodotti, con nome, quantità, prezzo di vendita e prezzo di acquisto.\n",
        "- Elencare tutti i prodotti presenti.\n",
        "- Registrare le vendite effettuate.\n",
        "- Mostrare i profitti lordi e netti.\n",
        "- Mostrare un menu di aiuto con tutti i comandi disponibili.\n",
        "\n",
        "Il software è testuale, quindi utilizzabile da riga di comando.\n",
        "\n",
        "### NOTE\n",
        "- Cerca di scrivere del buon codice organizzandolo le varie funzionalità in apposite funzioni.\n",
        "- Prima di scrivere il codice, pensa a quali sono le migliori strutture dati da utilizzare: liste, tuple, dizionari, o combinazioni di esse come liste di dizionari.\n",
        "- Il programma deve essere persistente, cioè le informazioni inserite dall'utente devono essere mantenute tra diverse esecuzioni del programma, per fare questo puoi utilizzare un file di testo scegliendo tu che tipo di codifica utilizzare per le informazioni.\n",
        "- Assicurati che gli input inseriti dall'utente siano validi, ad esempio che i numeri siano effettivamente numeri, gestisci i casi non validi con eccezioni e messagi di errore.\n",
        "- Durante un acquisto, verifica che i prodotti acquistati siano effettivamente presenti nel magazzino, nel caso negativo mostra all'utente un messaggio di errore.\n",
        "- Durante l'aggiunta in magazzino, verifica se il prodotto da aggiungere è già presente magazzino, nel caso positivo aggiungi la quantità a quella già presente in magazzino, in questo caso non serve specificare di nuovo il prezzo di acquisto e di vendita, altrimenti registralo come un nuovo prodotto.\n",
        "- Il profitto lordo è il totale delle vendite, cioè tutto ciò che i clienti hanno pagato, il profitto netto invece è pari al profitto lordo meno il costo di acquisto per i prodotti."
      ]
    },
    {
      "cell_type": "markdown",
      "metadata": {
        "id": "n8mprdSzYNxZ"
      },
      "source": [
        "## ESEMPIO DI INTERAZIONE CON IL PROGRAMMA (in grassetto l'input dell'utente)\n",
        "Inserisci un comando: **aiuto** <br/>\n",
        "I comandi disponibili sono i seguenti:\n",
        " - aggiungi: aggiungi un prodotto al magazzino\n",
        " - elenca: elenca i prodotto in magazzino\n",
        " - vendita: registra una vendita effettuata\n",
        " - profitti: mostra i profitti totali\n",
        " - aiuto: mostra i possibili comandi\n",
        " - chiudi: esci dal programma\n",
        "\n",
        "\n",
        "Inserisci un comando: **aggiungi** <br/>\n",
        "Nome del prodotto: **latte di soia** <br/>\n",
        "Quantità: **20** <br/>\n",
        "Prezzo di acquisto: **0.80** <br/>\n",
        "Prezzo di vendita: **1.40** <br/>\n",
        "AGGIUNTO: 20 X latte di soia <br/>\n",
        "<br/>\n",
        "Inserisci un comando: **aggiungi** <br/>\n",
        "Nome del prodotto: **tofu* *<br/>\n",
        "Quantità: **10** <br/>\n",
        "Prezzo di acquisto: **2.20** <br/>\n",
        "Prezzo di vendita: **4.19** <br/>\n",
        "AGGIUNTO: 10 X tofu <br/>\n",
        "<br/>\n",
        "Inserisci un comando: **aggiungi** <br/>\n",
        "Nome del prodotto: **seitan** <br/>\n",
        "Quantità: **5** <br/>\n",
        "Prezzo di acquisto: **3** <br/>\n",
        "Prezzo di vendita: **5.49** <br/>\n",
        "AGGIUNTO: 5 X seitan <br/>\n",
        "<br/>\n",
        "Inserisci un comando: **elenca** <br/>\n",
        "PRODOTTO\tQUANTITA'\tPREZZO <br/>\n",
        "latte di soia\t20\t€1.4 <br/>\n",
        "tofu\t10\t€4.19 <br/>\n",
        "seitan\t5\t€5.49 <br/>\n",
        "<br/>\n",
        "Inserisci un comando: **vendita** <br/>\n",
        "Nome del prodotto: **latte di soia** <br/>\n",
        "Quantità: 5 <br/>\n",
        "Aggiungere un altro prodotto ? (si/no): **si** <br/>\n",
        "Nome del prodotto: **tofu** <br/>\n",
        "Quantità: **2** <br/>\n",
        "Aggiungere un altro prodotto ? (si/no): **no** <br/>\n",
        "VENDITA REGISTRATA <br/>\n",
        " - 5 X latte di soia: €1.40 <br/>\n",
        " - 2 X tofu: €4.19 <br/>\n",
        "\n",
        "Totale: €15.38 <br/>\n",
        "<br/>\n",
        "Inserisci un comando: **elenca** <br/>\n",
        "PRODOTTO\tQUANTITA'\tPREZZO <br/>\n",
        "latte di soia\t15\t€1.4 <br/>\n",
        "tofu\t8\t€4.19 <br/>\n",
        "seitan\t5\t€5.49 <br/>\n",
        "<br/>\n",
        "Inserisci un comando: **vendita** <br/>\n",
        "Nome del prodotto: **seitan** <br/>\n",
        "Quantità: **5** <br/>\n",
        "Aggiungere un altro prodotto ? (si/no): **no** <br/>\n",
        "VENDITA REGISTRATA <br/>\n",
        " - 5 X seitan: €5.49 <br/>\n",
        "\n",
        "Totale: €27.45 <br/>\n",
        "<br/>\n",
        "Inserisci un comando: **elenca** <br/>\n",
        "PRODOTTO\tQUANTITA'\tPREZZO <br/>\n",
        "latte di soia\t15\t€1.4 <br/>\n",
        "tofu\t8\t€4.19 <br/>\n",
        "<br/>\n",
        "Inserisci un comando: **profitti** <br/>\n",
        "Profitto: lordo=€42.83 netto=€19.43 <br/>\n",
        "<br/>\n",
        "Inserisci un comando: **storna** <br/>\n",
        "Comando non valido <br/>\n",
        "I comandi disponibili sono i seguenti: <br/>\n",
        "- aggiungi: aggiungi un prodotto al magazzino <br/>\n",
        "- elenca: elenca i prodotto in magazzino <br/>\n",
        "- vendita: registra una vendita effettuata <br/>\n",
        "- profitti: mostra i profitti totali <br/>\n",
        "- aiuto: mostra i possibili comandi <br/>\n",
        "- chiudi: esci dal programma <br/>\n",
        "\n",
        "Inserisci un comando: **chiudi** <br/>\n",
        "Bye bye"
      ]
    },
    {
      "cell_type": "markdown",
      "source": [
        "## Ricorda Sempre\n",
        " 1. Nel lavoro è fondamentale seguire sempre le specifiche che ci vengono date alla lettera, quindi il programma deve contenere esattamente le funzioni specificate e deve produrre esattamente l'output dell'esempio se riceve lo stesso input.\n",
        " 2. Una funzione deve fare una e una cosa sola, cerca di scrivere funzioni brevi e concise, se una funzione è troppo lunga è molto probabile che vada spezzata in più funzioni. [Approfondimento 1](https://hackernoon.com/write-better-python-functions-c3a9a36382a6) [Approfondimento 2](https://towardsdatascience.com/python-clean-code-6-best-practices-to-make-your-python-functions-more-readable-7ea4c6171d60)\n",
        " 3. Sentirai spesso dire che è sempre necessario commentare il codice, falso! Un codice ben scritto si commenta da solo, non usare i commenti per descrivere quello che stai facendo, deve essere chiaro dal codice. [Approfondimento 1](https://realpython.com/python-comments-guide/) [Approdondimento 2](https://thatascience.com/learn-python/comments-and-docstrings-in-python/)\n",
        " 4. Utilizza le docstrings per documentare funzioni, classi e metodi.\n",
        " 5. I nomi di variabili, funzioni e metodi vanno sempre scritti in inglese, utilizzando lo snake case, il camel case va usato solo per i nomi di classi. Non mischiare italiano e inglese, sempre è solo inglese. [Approfondimento 1](https://realpython.com/python-variables/#variable-names)\n"
      ],
      "metadata": {
        "id": "udswhegGkzCJ"
      }
    },
    {
      "cell_type": "markdown",
      "metadata": {
        "id": "Hoj3eZFQdueX"
      },
      "source": [
        "### La tua soluzione\n",
        "Di seguito il loop principale del programma, completalo implementando le varie funzionalità (è normale ottenere un'errore cercando di eseguire il codice base, dato che questo è incompleto)."
      ]
    },
    {
      "cell_type": "code",
      "metadata": {
        "id": "Y6Gb51B5PE6O"
      },
      "source": [
        "cmd = None\n",
        "\n",
        "while cmd!=\"chiudi\":\n",
        "\n",
        "  cmd = input(\"Inserisci un comando: \")\n",
        "\n",
        "  if cmd==\"vendita\":\n",
        "    # registra una vendita\n",
        "    # ...\n",
        "  elif cmd==\"profitti\":\n",
        "    # mostra profitti netti e lordi\n",
        "    # ...\n",
        "  elif cmd==\"aggiungi\":\n",
        "    # aggiungi un prodotto al magazzino\n",
        "    # ...\n",
        "  elif cmd==\"elenca\":\n",
        "    # elenca tutti i prodotti nel magazzino\n",
        "    # ...\n",
        "  elif cmd==\"aiuto\":\n",
        "    # mostra i possibili comandi\n",
        "    # ...\n",
        "  elif cmd==\"chiudi\":\n",
        "    # saluta e interrompi il programma\n",
        "    # ...\n",
        "  else:\n",
        "    # comando non valido\n",
        "    # mostra messaggio di aiuto\n",
        "    # ..."
      ],
      "execution_count": null,
      "outputs": []
    },
    {
      "cell_type": "markdown",
      "metadata": {
        "id": "xFHOjo0-LNHF"
      },
      "source": [
        "<iframe width=\"560\" height=\"315\" src=\"https://www.youtube.com/embed/ztGdf3aNGLE\" title=\"YouTube video player\" frameborder=\"0\" allow=\"accelerometer; autoplay; clipboard-write; encrypted-media; gyroscope; picture-in-picture\" allowfullscreen></iframe>"
      ]
    }
  ]
}